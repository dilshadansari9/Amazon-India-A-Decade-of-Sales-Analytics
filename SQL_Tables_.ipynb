{
  "cells": [
    {
      "cell_type": "code",
      "execution_count": 1,
      "metadata": {
        "colab": {
          "base_uri": "https://localhost:8080/"
        },
        "id": "VCZtjxZkNaM3",
        "outputId": "802b92f0-7c7c-4012-a493-9f0ff4221a4e"
      },
      "outputs": [],
      "source": [
        "# !pip3 install pymysql\n",
        "import pandas as pd \n",
        "import pymysql\n",
        "pd.set_option('display.max_columns' ,None)\n",
        "\n",
        "df=pd.read_csv('cleaned_amazon_data.csv')"
      ]
    },
    {
      "cell_type": "code",
      "execution_count": 2,
      "metadata": {
        "colab": {
          "base_uri": "https://localhost:8080/",
          "height": 454
        },
        "id": "SmGT2tev-UiU",
        "outputId": "d8d32439-0c45-4dc6-b4c2-a56cdab3eb09"
      },
      "outputs": [
        {
          "data": {
            "text/plain": [
              "<pymysql.cursors.Cursor at 0x115435010>"
            ]
          },
          "execution_count": 2,
          "metadata": {},
          "output_type": "execute_result"
        }
      ],
      "source": [
        "connect=pymysql.connect(\n",
        "    host='localhost',\n",
        "    user='root',\n",
        "    password='aiktc@1234',\n",
        "    database='amazon',\n",
        "    autocommit=True\n",
        ")\n",
        "\n",
        "cursor=connect.cursor()\n",
        "cursor"
      ]
    },
    {
      "cell_type": "code",
      "execution_count": 3,
      "metadata": {
        "id": "HtD_EExk_aaQ"
      },
      "outputs": [
        {
          "data": {
            "text/plain": [
              "0"
            ]
          },
          "execution_count": 3,
          "metadata": {},
          "output_type": "execute_result"
        }
      ],
      "source": [
        "cursor.execute('USE amazon;')"
      ]
    },
    {
      "cell_type": "code",
      "execution_count": 4,
      "metadata": {},
      "outputs": [
        {
          "data": {
            "text/plain": [
              "Index(['transaction_id', 'order_date', 'customer_id', 'product_id',\n",
              "       'product_name', 'category', 'subcategory', 'brand',\n",
              "       'original_price_inr', 'discount_percent', 'discounted_price_inr',\n",
              "       'quantity', 'subtotal_inr', 'delivery_charges', 'final_amount_inr',\n",
              "       'customer_city', 'customer_state', 'customer_tier',\n",
              "       'customer_spending_tier', 'customer_age_group', 'payment_method',\n",
              "       'delivery_days', 'delivery_type', 'is_prime_member', 'is_festival_sale',\n",
              "       'customer_rating', 'return_status', 'order_month', 'order_year',\n",
              "       'order_quarter', 'product_weight_kg', 'is_prime_eligible',\n",
              "       'product_rating', 'payment_method_simplified'],\n",
              "      dtype='object')"
            ]
          },
          "execution_count": 4,
          "metadata": {},
          "output_type": "execute_result"
        }
      ],
      "source": [
        "df.columns"
      ]
    },
    {
      "cell_type": "code",
      "execution_count": 5,
      "metadata": {},
      "outputs": [
        {
          "data": {
            "text/plain": [
              "0"
            ]
          },
          "execution_count": 5,
          "metadata": {},
          "output_type": "execute_result"
        }
      ],
      "source": [
        "create_product=\"\"\"\n",
        "    CREATE TABLE IF NOT EXISTS products(\n",
        "        product_id VARCHAR(50) PRIMARY KEY,\n",
        "        product_name VARCHAR(255),\n",
        "        category VARCHAR(100),\n",
        "        subcategory VARCHAR(100),\n",
        "        brand VARCHAR(100)\n",
        "    )\n",
        "\"\"\"\n",
        "cursor.execute(create_product)\n"
      ]
    },
    {
      "cell_type": "code",
      "execution_count": 6,
      "metadata": {},
      "outputs": [
        {
          "data": {
            "text/plain": [
              "4"
            ]
          },
          "execution_count": 6,
          "metadata": {},
          "output_type": "execute_result"
        }
      ],
      "source": [
        "cursor.execute('show tables;')"
      ]
    },
    {
      "cell_type": "code",
      "execution_count": 7,
      "metadata": {},
      "outputs": [
        {
          "data": {
            "text/plain": [
              "0"
            ]
          },
          "execution_count": 7,
          "metadata": {},
          "output_type": "execute_result"
        }
      ],
      "source": [
        "create_customers = \"\"\"\n",
        "CREATE TABLE IF NOT EXISTS customers (\n",
        "    customer_id VARCHAR(50) PRIMARY KEY,\n",
        "    customer_city VARCHAR(100),\n",
        "    customer_state VARCHAR(100),\n",
        "    customer_tier VARCHAR(20),\n",
        "    customer_age_group VARCHAR(20)\n",
        ");\n",
        "\"\"\"\n",
        "cursor.execute(create_customers)\n"
      ]
    },
    {
      "cell_type": "code",
      "execution_count": 8,
      "metadata": {},
      "outputs": [
        {
          "data": {
            "text/plain": [
              "0"
            ]
          },
          "execution_count": 8,
          "metadata": {},
          "output_type": "execute_result"
        }
      ],
      "source": [
        "create_time_dimension = \"\"\"\n",
        "CREATE TABLE IF NOT EXISTS time_dimension (\n",
        "    date_id DATE PRIMARY KEY,\n",
        "    year INT,\n",
        "    quarter INT,\n",
        "    month INT,\n",
        "    day INT,\n",
        "    weekday VARCHAR(20)\n",
        ");\n",
        "\"\"\"\n",
        "cursor.execute(create_time_dimension)\n",
        "\n"
      ]
    },
    {
      "cell_type": "code",
      "execution_count": 9,
      "metadata": {},
      "outputs": [
        {
          "name": "stdout",
          "output_type": "stream",
          "text": [
            "customers\n",
            "products\n",
            "time_dimension\n",
            "transactions\n"
          ]
        }
      ],
      "source": [
        "cursor.execute(\"show tables;\")\n",
        "for t in cursor:\n",
        "    print(t[0])"
      ]
    },
    {
      "cell_type": "code",
      "execution_count": 10,
      "metadata": {},
      "outputs": [],
      "source": [
        "\n",
        "product_df=df[['product_id', 'product_name', 'category', 'subcategory', 'brand']]"
      ]
    },
    {
      "cell_type": "code",
      "execution_count": 11,
      "metadata": {},
      "outputs": [],
      "source": [
        "# for _, row in product_df.iterrows():\n",
        "#     cursor.execute(\"\"\"\n",
        "#         INSERT INTO products (product_id, product_name, category, subcategory, brand)\n",
        "#         VALUES (%s, %s, %s, %s, %s)\n",
        "#         ON DUPLICATE KEY UPDATE\n",
        "#             product_name = VALUES(product_name),\n",
        "#             category = VALUES(category),\n",
        "#             subcategory = VALUES(subcategory),\n",
        "#             brand = VALUES(brand);\n",
        "#     \"\"\", tuple(row))\n"
      ]
    },
    {
      "cell_type": "code",
      "execution_count": 12,
      "metadata": {},
      "outputs": [],
      "source": [
        "# customer_df=df[['customer_id', 'customer_city', 'customer_state', 'customer_tier','customer_age_group']].drop_duplicates()\n",
        "\n",
        "# for _,row in customer_df.iterrows():\n",
        "#     cursor.execute(\"\"\" INSERT INTO customers (customer_id, customer_city, customer_state, customer_tier, customer_age_group)\n",
        "#         VALUES (%s, %s, %s, %s, %s)\n",
        "#         ON DUPLICATE KEY UPDATE\n",
        "#             customer_city = VALUES(customer_city),\n",
        "#             customer_state = VALUES(customer_state),\n",
        "#             customer_tier = VALUES(customer_tier),\n",
        "#             customer_age_group = VALUES(customer_age_group)\n",
        "# \"\"\",tuple(row))\n",
        "    "
      ]
    },
    {
      "cell_type": "code",
      "execution_count": 13,
      "metadata": {},
      "outputs": [],
      "source": [
        "\n",
        "# df = df.dropna(subset=['order_date'])\n",
        "\n",
        "\n",
        "# df['order_date'] = pd.to_datetime(df['order_date'], errors='coerce')\n",
        "\n",
        "\n",
        "# df = df.dropna(subset=['order_date'])\n",
        "\n",
        "# time_df = df[['order_date']].drop_duplicates().copy()\n",
        "# time_df['year'] = time_df['order_date'].dt.year\n",
        "# time_df['quarter'] = time_df['order_date'].dt.quarter\n",
        "# time_df['month'] = time_df['order_date'].dt.month\n",
        "# time_df['day'] = time_df['order_date'].dt.day\n",
        "# time_df['weekday'] = time_df['order_date'].dt.day_name()\n",
        "\n",
        "# for _, row in time_df.iterrows():\n",
        "#     cursor.execute(\"\"\"\n",
        "#         INSERT INTO time_dimension (date_id, year, quarter, month, day, weekday)\n",
        "#         VALUES (%s, %s, %s, %s, %s, %s)\n",
        "#         ON DUPLICATE KEY UPDATE\n",
        "#             year = VALUES(year),\n",
        "#             quarter = VALUES(quarter),\n",
        "#             month = VALUES(month),\n",
        "#             day = VALUES(day),\n",
        "#             weekday = VALUES(weekday);\n",
        "#     \"\"\", tuple(row))\n"
      ]
    },
    {
      "cell_type": "code",
      "execution_count": 14,
      "metadata": {},
      "outputs": [
        {
          "data": {
            "text/plain": [
              "0"
            ]
          },
          "execution_count": 14,
          "metadata": {},
          "output_type": "execute_result"
        }
      ],
      "source": [
        "create_transactions = \"\"\"\n",
        "CREATE TABLE IF NOT EXISTS transactions (\n",
        "    transaction_id VARCHAR(50) PRIMARY KEY,\n",
        "    order_date DATE,\n",
        "    customer_id VARCHAR(50),\n",
        "    product_id VARCHAR(50),\n",
        "    product_name VARCHAR(255),\n",
        "    category VARCHAR(100),\n",
        "    subcategory VARCHAR(100),\n",
        "    brand VARCHAR(100),\n",
        "    original_price_inr DECIMAL(10,2),\n",
        "    discount_percent DECIMAL(5,2),\n",
        "    discounted_price_inr DECIMAL(10,2),\n",
        "    quantity INT,\n",
        "    subtotal_inr DECIMAL(12,2),\n",
        "    delivery_charges DECIMAL(10,2),\n",
        "    final_amount_inr DECIMAL(12,2),\n",
        "    payment_method VARCHAR(50),\n",
        "    delivery_days INT,\n",
        "    delivery_type VARCHAR(50),\n",
        "    is_prime_member BOOLEAN,\n",
        "    is_festival_sale BOOLEAN,\n",
        "    customer_rating DECIMAL(3,2),\n",
        "    return_status VARCHAR(20),\n",
        "    order_month INT,\n",
        "    order_year INT,\n",
        "    order_quarter INT,\n",
        "    product_weight_kg DECIMAL(6,3),\n",
        "    is_prime_eligible BOOLEAN,\n",
        "    product_rating DECIMAL(3,2),\n",
        "    payment_method_simplified VARCHAR(50),\n",
        "\n",
        "    FOREIGN KEY (product_id) REFERENCES products(product_id),\n",
        "    FOREIGN KEY (customer_id) REFERENCES customers(customer_id),\n",
        "    FOREIGN KEY (order_date) REFERENCES time_dimension(date_id)\n",
        ");\n",
        "\"\"\"\n",
        "cursor.execute(create_transactions)\n",
        "\n"
      ]
    },
    {
      "cell_type": "code",
      "execution_count": 15,
      "metadata": {},
      "outputs": [
        {
          "data": {
            "text/plain": [
              "29"
            ]
          },
          "execution_count": 15,
          "metadata": {},
          "output_type": "execute_result"
        }
      ],
      "source": [
        "# transaction_columns = [\n",
        "#     'transaction_id', 'order_date', 'customer_id', 'product_id',\n",
        "#     'product_name', 'category', 'subcategory', 'brand',\n",
        "#     'original_price_inr', 'discount_percent', 'discounted_price_inr',\n",
        "#     'quantity', 'subtotal_inr', 'delivery_charges', 'final_amount_inr',\n",
        "#     'payment_method', 'delivery_days', 'delivery_type', 'is_prime_member',\n",
        "#     'is_festival_sale', 'customer_rating', 'return_status',\n",
        "#     'order_month', 'order_year', 'order_quarter',\n",
        "#     'product_weight_kg', 'is_prime_eligible', 'product_rating',\n",
        "#     'payment_method_simplified'\n",
        "# ]\n",
        "transaction_df=df[[\n",
        "    'transaction_id', 'order_date', 'customer_id', 'product_id',\n",
        "    'product_name', 'category', 'subcategory', 'brand',\n",
        "    'original_price_inr', 'discount_percent', 'discounted_price_inr',\n",
        "    'quantity', 'subtotal_inr', 'delivery_charges', 'final_amount_inr',\n",
        "    'payment_method', 'delivery_days', 'delivery_type', 'is_prime_member',\n",
        "    'is_festival_sale', 'customer_rating', 'return_status',\n",
        "    'order_month', 'order_year', 'order_quarter',\n",
        "    'product_weight_kg', 'is_prime_eligible', 'product_rating',\n",
        "    'payment_method_simplified'\n",
        "]]\n",
        "\n",
        "len(transaction_df.columns)"
      ]
    },
    {
      "cell_type": "code",
      "execution_count": 16,
      "metadata": {},
      "outputs": [
        {
          "data": {
            "text/plain": [
              "array(['3', '6', '4', '5', '2', '1', '7', '2 days', nan, '15', '0'],\n",
              "      dtype=object)"
            ]
          },
          "execution_count": 16,
          "metadata": {},
          "output_type": "execute_result"
        }
      ],
      "source": [
        "transaction_df['delivery_days'].unique()"
      ]
    },
    {
      "cell_type": "code",
      "execution_count": 17,
      "metadata": {},
      "outputs": [
        {
          "name": "stderr",
          "output_type": "stream",
          "text": [
            "/var/folders/dq/gcp3r5b912169kz3hx5tbb4r0000gn/T/ipykernel_5536/4050492030.py:1: SettingWithCopyWarning: \n",
            "A value is trying to be set on a copy of a slice from a DataFrame.\n",
            "Try using .loc[row_indexer,col_indexer] = value instead\n",
            "\n",
            "See the caveats in the documentation: https://pandas.pydata.org/pandas-docs/stable/user_guide/indexing.html#returning-a-view-versus-a-copy\n",
            "  transaction_df['delivery_days']=transaction_df['delivery_days'].str.replace('2 days','2')\n"
          ]
        }
      ],
      "source": [
        "transaction_df['delivery_days']=transaction_df['delivery_days'].str.replace('2 days','2') "
      ]
    },
    {
      "cell_type": "code",
      "execution_count": 18,
      "metadata": {},
      "outputs": [
        {
          "name": "stderr",
          "output_type": "stream",
          "text": [
            "/var/folders/dq/gcp3r5b912169kz3hx5tbb4r0000gn/T/ipykernel_5536/671691234.py:3: SettingWithCopyWarning: \n",
            "A value is trying to be set on a copy of a slice from a DataFrame.\n",
            "Try using .loc[row_indexer,col_indexer] = value instead\n",
            "\n",
            "See the caveats in the documentation: https://pandas.pydata.org/pandas-docs/stable/user_guide/indexing.html#returning-a-view-versus-a-copy\n",
            "  transaction_df['delivery_days']=pd.to_numeric(transaction_df['delivery_days'])\n"
          ]
        }
      ],
      "source": [
        "# transaction_df['delivery_days']=transaction_df['delivery_days'].astype(int)\n",
        "\n",
        "transaction_df['delivery_days']=pd.to_numeric(transaction_df['delivery_days'])"
      ]
    },
    {
      "cell_type": "code",
      "execution_count": 19,
      "metadata": {},
      "outputs": [
        {
          "data": {
            "text/plain": [
              "np.int64(2223)"
            ]
          },
          "execution_count": 19,
          "metadata": {},
          "output_type": "execute_result"
        }
      ],
      "source": [
        "transaction_df['delivery_days'].isnull().sum()"
      ]
    },
    {
      "cell_type": "code",
      "execution_count": 20,
      "metadata": {},
      "outputs": [],
      "source": [
        "# transaction_df['delivery_days'] "
      ]
    },
    {
      "cell_type": "code",
      "execution_count": 21,
      "metadata": {},
      "outputs": [
        {
          "data": {
            "text/plain": [
              "np.float64(3.0)"
            ]
          },
          "execution_count": 21,
          "metadata": {},
          "output_type": "execute_result"
        }
      ],
      "source": [
        "transaction_df['delivery_days'].median()"
      ]
    },
    {
      "cell_type": "code",
      "execution_count": 22,
      "metadata": {},
      "outputs": [
        {
          "name": "stderr",
          "output_type": "stream",
          "text": [
            "/var/folders/dq/gcp3r5b912169kz3hx5tbb4r0000gn/T/ipykernel_5536/741525133.py:1: SettingWithCopyWarning: \n",
            "A value is trying to be set on a copy of a slice from a DataFrame.\n",
            "Try using .loc[row_indexer,col_indexer] = value instead\n",
            "\n",
            "See the caveats in the documentation: https://pandas.pydata.org/pandas-docs/stable/user_guide/indexing.html#returning-a-view-versus-a-copy\n",
            "  transaction_df['delivery_days']=transaction_df['delivery_days'].fillna(transaction_df['delivery_days'].median())\n"
          ]
        }
      ],
      "source": [
        "transaction_df['delivery_days']=transaction_df['delivery_days'].fillna(transaction_df['delivery_days'].median())"
      ]
    },
    {
      "cell_type": "code",
      "execution_count": 23,
      "metadata": {},
      "outputs": [
        {
          "name": "stderr",
          "output_type": "stream",
          "text": [
            "/var/folders/dq/gcp3r5b912169kz3hx5tbb4r0000gn/T/ipykernel_5536/2170915260.py:2: SettingWithCopyWarning: \n",
            "A value is trying to be set on a copy of a slice from a DataFrame.\n",
            "Try using .loc[row_indexer,col_indexer] = value instead\n",
            "\n",
            "See the caveats in the documentation: https://pandas.pydata.org/pandas-docs/stable/user_guide/indexing.html#returning-a-view-versus-a-copy\n",
            "  transaction_df['delivery_days']=pd.to_numeric(transaction_df['delivery_days'], errors='coerce').astype('Int64')\n"
          ]
        }
      ],
      "source": [
        "# df['delivery_days'] = pd.to_numeric(df['delivery_days'], errors='coerce').astype('Int64')\n",
        "transaction_df['delivery_days']=pd.to_numeric(transaction_df['delivery_days'], errors='coerce').astype('Int64') "
      ]
    },
    {
      "cell_type": "code",
      "execution_count": 24,
      "metadata": {},
      "outputs": [
        {
          "name": "stderr",
          "output_type": "stream",
          "text": [
            "/var/folders/dq/gcp3r5b912169kz3hx5tbb4r0000gn/T/ipykernel_5536/541228650.py:1: SettingWithCopyWarning: \n",
            "A value is trying to be set on a copy of a slice from a DataFrame.\n",
            "Try using .loc[row_indexer,col_indexer] = value instead\n",
            "\n",
            "See the caveats in the documentation: https://pandas.pydata.org/pandas-docs/stable/user_guide/indexing.html#returning-a-view-versus-a-copy\n",
            "  transaction_df['order_date']=pd.to_datetime(transaction_df['order_date'],errors='coerce')\n"
          ]
        }
      ],
      "source": [
        "transaction_df['order_date']=pd.to_datetime(transaction_df['order_date'],errors='coerce')"
      ]
    },
    {
      "cell_type": "code",
      "execution_count": 25,
      "metadata": {},
      "outputs": [
        {
          "name": "stdout",
          "output_type": "stream",
          "text": [
            "<class 'pandas.core.frame.DataFrame'>\n",
            "RangeIndex: 1081900 entries, 0 to 1081899\n",
            "Data columns (total 29 columns):\n",
            " #   Column                     Non-Null Count    Dtype         \n",
            "---  ------                     --------------    -----         \n",
            " 0   transaction_id             1081900 non-null  object        \n",
            " 1   order_date                 978165 non-null   datetime64[ns]\n",
            " 2   customer_id                1081900 non-null  object        \n",
            " 3   product_id                 1081900 non-null  object        \n",
            " 4   product_name               1081900 non-null  object        \n",
            " 5   category                   1081900 non-null  object        \n",
            " 6   subcategory                1081900 non-null  object        \n",
            " 7   brand                      1081900 non-null  object        \n",
            " 8   original_price_inr         1081900 non-null  float64       \n",
            " 9   discount_percent           1081900 non-null  float64       \n",
            " 10  discounted_price_inr       1081900 non-null  float64       \n",
            " 11  quantity                   1081900 non-null  int64         \n",
            " 12  subtotal_inr               1081900 non-null  float64       \n",
            " 13  delivery_charges           1081900 non-null  float64       \n",
            " 14  final_amount_inr           1081900 non-null  float64       \n",
            " 15  payment_method             1081900 non-null  object        \n",
            " 16  delivery_days              1081900 non-null  Int64         \n",
            " 17  delivery_type              1081900 non-null  object        \n",
            " 18  is_prime_member            1081900 non-null  bool          \n",
            " 19  is_festival_sale           1081900 non-null  bool          \n",
            " 20  customer_rating            1081900 non-null  float64       \n",
            " 21  return_status              1081900 non-null  object        \n",
            " 22  order_month                1081900 non-null  int64         \n",
            " 23  order_year                 1081900 non-null  int64         \n",
            " 24  order_quarter              1081900 non-null  int64         \n",
            " 25  product_weight_kg          1081900 non-null  float64       \n",
            " 26  is_prime_eligible          1081900 non-null  bool          \n",
            " 27  product_rating             1081900 non-null  float64       \n",
            " 28  payment_method_simplified  1081900 non-null  object        \n",
            "dtypes: Int64(1), bool(3), datetime64[ns](1), float64(9), int64(4), object(11)\n",
            "memory usage: 218.7+ MB\n"
          ]
        }
      ],
      "source": [
        "# pd.set_option('display.max_rows' ,None)\n",
        "transaction_df.info()"
      ]
    },
    {
      "cell_type": "code",
      "execution_count": 26,
      "metadata": {},
      "outputs": [
        {
          "data": {
            "text/plain": [
              "Index(['transaction_id', 'order_date', 'customer_id', 'product_id',\n",
              "       'product_name', 'category', 'subcategory', 'brand',\n",
              "       'original_price_inr', 'discount_percent', 'discounted_price_inr',\n",
              "       'quantity', 'subtotal_inr', 'delivery_charges', 'final_amount_inr',\n",
              "       'payment_method', 'delivery_days', 'delivery_type', 'is_prime_member',\n",
              "       'is_festival_sale', 'customer_rating', 'return_status', 'order_month',\n",
              "       'order_year', 'order_quarter', 'product_weight_kg', 'is_prime_eligible',\n",
              "       'product_rating', 'payment_method_simplified'],\n",
              "      dtype='object')"
            ]
          },
          "execution_count": 26,
          "metadata": {},
          "output_type": "execute_result"
        }
      ],
      "source": [
        "transaction_df.columns"
      ]
    },
    {
      "cell_type": "code",
      "execution_count": null,
      "metadata": {},
      "outputs": [
        {
          "data": {
            "text/plain": [
              "978165"
            ]
          },
          "execution_count": 28,
          "metadata": {},
          "output_type": "execute_result"
        }
      ],
      "source": [
        "# # 1️⃣ Drop rows where order_date is NaT\n",
        "# transaction_df = transaction_df.dropna(subset=['order_date'])\n",
        "\n",
        "# # 2️⃣ Convert columns to MySQL-friendly types\n",
        "# transaction_df['order_date'] = transaction_df['order_date'].dt.date  # datetime.date\n",
        "# transaction_df['is_prime_member'] = transaction_df['is_prime_member'].astype(bool)\n",
        "# transaction_df['is_festival_sale'] = transaction_df['is_festival_sale'].astype(bool)\n",
        "# transaction_df['is_prime_eligible'] = transaction_df['is_prime_eligible'].astype(bool)\n",
        "\n",
        "# # 3️⃣ Prepare the insert query\n",
        "# insert_query = \"\"\"\n",
        "# INSERT INTO transactions (\n",
        "#     transaction_id, order_date, customer_id, product_id,\n",
        "#     product_name, category, subcategory, brand,\n",
        "#     original_price_inr, discount_percent, discounted_price_inr,\n",
        "#     quantity, subtotal_inr, delivery_charges, final_amount_inr,\n",
        "#     payment_method, delivery_days, delivery_type, is_prime_member,\n",
        "#     is_festival_sale, customer_rating, return_status,\n",
        "#     order_month, order_year, order_quarter,\n",
        "#     product_weight_kg, is_prime_eligible, product_rating,\n",
        "#     payment_method_simplified\n",
        "# ) VALUES (%s, %s, %s, %s, %s, %s, %s, %s, %s, %s, %s, %s, %s, %s, %s,\n",
        "#           %s, %s, %s, %s, %s, %s, %s, %s, %s, %s, %s, %s, %s, %s)\n",
        "# ON DUPLICATE KEY UPDATE\n",
        "#     final_amount_inr = VALUES(final_amount_inr),\n",
        "#     customer_rating = VALUES(customer_rating),\n",
        "#     product_rating = VALUES(product_rating);\n",
        "# \"\"\"\n",
        "\n",
        "# # 4️⃣ Convert DataFrame to list of tuples for executemany\n",
        "# data_tuples = [tuple(x) for x in transaction_df.to_numpy()]\n",
        "\n",
        "# # 5️⃣ Execute the insert in bulk\n",
        "# cursor.executemany(insert_query, data_tuples)"
      ]
    },
    {
      "cell_type": "code",
      "execution_count": null,
      "metadata": {},
      "outputs": [],
      "source": []
    }
  ],
  "metadata": {
    "colab": {
      "provenance": []
    },
    "kernelspec": {
      "display_name": "Python 3",
      "name": "python3"
    },
    "language_info": {
      "codemirror_mode": {
        "name": "ipython",
        "version": 3
      },
      "file_extension": ".py",
      "mimetype": "text/x-python",
      "name": "python",
      "nbconvert_exporter": "python",
      "pygments_lexer": "ipython3",
      "version": "3.13.7"
    }
  },
  "nbformat": 4,
  "nbformat_minor": 0
}
